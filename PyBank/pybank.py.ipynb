{
 "cells": [
  {
   "cell_type": "code",
   "execution_count": 46,
   "metadata": {},
   "outputs": [],
   "source": [
    "import os\n",
    "import csv"
   ]
  },
  {
   "cell_type": "code",
   "execution_count": 57,
   "metadata": {},
   "outputs": [],
   "source": [
    "bank_file = os.path.join(\"../Lesson-Plans/budget_data_2.csv\")"
   ]
  },
  {
   "cell_type": "code",
   "execution_count": 58,
   "metadata": {},
   "outputs": [],
   "source": [
    "# months and revenues list\n",
    "months_amount = []\n",
    "revenue = []"
   ]
  },
  {
   "cell_type": "code",
   "execution_count": 59,
   "metadata": {},
   "outputs": [],
   "source": [
    "# retrieve the file to read csv\n",
    "with open(bank_file, \"r\") as csvfile:\n",
    "    csvread = csv.reader(csvfile)\n",
    "    # add up all rows via loop sans header\n",
    "#skip header\n",
    "    next(csvread, None)\n",
    "    for rows in csvread:\n",
    "        months_amount.append(rows[0])\n",
    "        revenue.append(int(rows[1]))"
   ]
  },
  {
   "cell_type": "code",
   "execution_count": 60,
   "metadata": {},
   "outputs": [],
   "source": [
    "# find all months\n",
    "all_months = len(months_amount)"
   ]
  },
  {
   "cell_type": "code",
   "execution_count": 61,
   "metadata": {},
   "outputs": [],
   "source": [
    "# set all revenue to zero\n",
    "max_inc = revenue[0]\n",
    "max_dec = revenue[0]\n",
    "all_revenue = 0"
   ]
  },
  {
   "cell_type": "code",
   "execution_count": 62,
   "metadata": {},
   "outputs": [],
   "source": [
    "# compare most increased and most decreased each month; need to total the revenue \n",
    "for y in range(len(revenue)):\n",
    "    if revenue[y] >= max_inc:\n",
    "        max_inc = revenue[y]\n",
    "        max_inc_month = months_amount[y]\n",
    "    elif revenue [y] <= max_dec:\n",
    "        max_dec = revenue[y]\n",
    "        max_dec_month = months_amount[y]\n",
    "    all_revenue += revenue[y]"
   ]
  },
  {
   "cell_type": "code",
   "execution_count": 63,
   "metadata": {},
   "outputs": [],
   "source": [
    " #average change in revenue\n",
    "change_avg = round(all_revenue/all_months, 2)"
   ]
  },
  {
   "cell_type": "code",
   "execution_count": 64,
   "metadata": {},
   "outputs": [],
   "source": [
    "#send to text file\n",
    "file_output = os.path.join(\"../Lesson-Plans/PyBank.txt\")"
   ]
  },
  {
   "cell_type": "code",
   "execution_count": 65,
   "metadata": {},
   "outputs": [
    {
     "data": {
      "text/plain": [
       "<_io.TextIOWrapper name='../Lesson-Plans/PyBank.txt' mode='w' encoding='UTF-8'>"
      ]
     },
     "execution_count": 65,
     "metadata": {},
     "output_type": "execute_result"
    }
   ],
   "source": [
    "# write results\n",
    "with open(file_output, \"w\") as filewrite:\n",
    "    filewrite.writelines(\"Financial Analysis\\n\")\n",
    "    filewrite.writelines(\"-----------------------------\" + \"\\n\")\n",
    "    filewrite.writelines(\"All Months: \" + str(all_months) + \"\\n\")\n",
    "    filewrite.writelines(\"Total Revenue: \" + str(all_revenue) + \"\\n\")\n",
    "    filewrite.writelines(\"Average Change in revenue: \" + str(change_avg) + \"\\n\")\n",
    "    filewrite.writelines(\"Max increase in revenue: \" + max_inc_month +  str(max_inc)  + \"\\n\")\n",
    "    filewrite.writelines(\"Max decrease in revenue: \" + max_dec_month +  str(max_dec) + \"\\n\")\n",
    "filewrite"
   ]
  },
  {
   "cell_type": "code",
   "execution_count": 66,
   "metadata": {},
   "outputs": [
    {
     "name": "stdout",
     "output_type": "stream",
     "text": [
      "Financial Analysis\n",
      "-----------------------------\n",
      "All Months: 86\n",
      "Total Revenue: 36973911\n",
      "Average Change in revenue: 429929.2\n",
      "Max increase in revenue: Mar-20121141606\n",
      "Max decrease in revenue: Sep-2010-1063151\n",
      "\n"
     ]
    }
   ],
   "source": [
    "with open(file_output, \"r\") as readfile:\n",
    "    print(readfile.read())"
   ]
  },
  {
   "cell_type": "code",
   "execution_count": null,
   "metadata": {},
   "outputs": [],
   "source": []
  },
  {
   "cell_type": "code",
   "execution_count": null,
   "metadata": {},
   "outputs": [],
   "source": []
  }
 ],
 "metadata": {
  "kernelspec": {
   "display_name": "Python 3",
   "language": "python",
   "name": "python3"
  },
  "language_info": {
   "codemirror_mode": {
    "name": "ipython",
    "version": 3
   },
   "file_extension": ".py",
   "mimetype": "text/x-python",
   "name": "python",
   "nbconvert_exporter": "python",
   "pygments_lexer": "ipython3",
   "version": "3.6.4"
  }
 },
 "nbformat": 4,
 "nbformat_minor": 2
}
