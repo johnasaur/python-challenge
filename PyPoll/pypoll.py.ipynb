{
 "cells": [
  {
   "cell_type": "code",
   "execution_count": 379,
   "metadata": {},
   "outputs": [],
   "source": [
    "# import dependencies\n",
    "import os\n",
    "import csv"
   ]
  },
  {
   "cell_type": "code",
   "execution_count": 380,
   "metadata": {},
   "outputs": [],
   "source": [
    "election_file = os.path.join(\"../Lesson-Plans/election_data_1.csv\")"
   ]
  },
  {
   "cell_type": "code",
   "execution_count": 381,
   "metadata": {},
   "outputs": [],
   "source": [
    "#dictionary for vote count and candidates\n",
    "votes = {}"
   ]
  },
  {
   "cell_type": "code",
   "execution_count": 382,
   "metadata": {},
   "outputs": [],
   "source": [
    "#set all votes to zero\n",
    "all_votes = 0"
   ]
  },
  {
   "cell_type": "code",
   "execution_count": 383,
   "metadata": {},
   "outputs": [],
   "source": [
    "# read file\n",
    "with open(election_file, \"r\") as csvfile:\n",
    "    csvread = csv.reader(csvfile)\n",
    "    # skip header\n",
    "    next(csvread, None)\n",
    "    for row in csvread:\n",
    "        all_votes += 1\n",
    "        if row[2] in votes.keys():\n",
    "            votes[row[2]] = votes[row[2]] +1\n",
    "        else:\n",
    "            votes[row[2]] = 1"
   ]
  },
  {
   "cell_type": "code",
   "execution_count": 384,
   "metadata": {},
   "outputs": [],
   "source": [
    "# list for candidates and vote count\n",
    "candidates = []\n",
    "votes_count = []"
   ]
  },
  {
   "cell_type": "code",
   "execution_count": 385,
   "metadata": {},
   "outputs": [],
   "source": [
    "# keys to lists\n",
    "for key, value in votes.items():\n",
    "    candidates.append(key)\n",
    "    votes_count.append(value)"
   ]
  },
  {
   "cell_type": "code",
   "execution_count": 386,
   "metadata": {},
   "outputs": [],
   "source": [
    "#create vote percentage\n",
    "vote_percentage = []\n",
    "for y in votes_count:\n",
    "    vote_percentage.append(round(y/all_votes * 100, 2))"
   ]
  },
  {
   "cell_type": "code",
   "execution_count": 387,
   "metadata": {},
   "outputs": [],
   "source": [
    "# zip data in a file\n",
    "zip_file = list(zip(candidates, votes_count, vote_percentage))"
   ]
  },
  {
   "cell_type": "code",
   "execution_count": 388,
   "metadata": {},
   "outputs": [],
   "source": [
    "# winner info\n",
    "winners = []\n",
    "for w in zip_file:\n",
    "    if max(votes_count) == w[1]:\n",
    "        winners.append(w[0])"
   ]
  },
  {
   "cell_type": "code",
   "execution_count": 389,
   "metadata": {},
   "outputs": [],
   "source": [
    "# winner str\n",
    "winners2 = winners[0]"
   ]
  },
  {
   "cell_type": "code",
   "execution_count": 390,
   "metadata": {},
   "outputs": [],
   "source": [
    "# to text file\n",
    "text_file = os.path.join(\"../Lesson-Plans/election.txt\")"
   ]
  },
  {
   "cell_type": "code",
   "execution_count": 391,
   "metadata": {},
   "outputs": [],
   "source": [
    "# write results \n",
    "with open(text_file, \"w\") as filewrite:\n",
    "    filewrite.writelines(\"Election Results\\n\")\n",
    "    filewrite.writelines(\"-----------------------------\" + \"\\n\")\n",
    "    filewrite.writelines(\"Total Votes: \" + str(all_votes) + \"\\n\")\n",
    "    filewrite.writelines(\"-----------------------------\" + \"\\n\")\n",
    "    filewrite.writelines(str(candidates) + \": \" + str(vote_percentage) + \"% (\" + str(votes_count) + \"\\n\")\n",
    "    filewrite.writelines(\"------------------------------\" + \"\\n\")\n",
    "    filewrite.writelines(\"Winner: \" + str(winners2) + \"\\n------------------------------\")\n",
    "        "
   ]
  },
  {
   "cell_type": "code",
   "execution_count": 392,
   "metadata": {},
   "outputs": [
    {
     "name": "stdout",
     "output_type": "stream",
     "text": [
      "Election Results\n",
      "-----------------------------\n",
      "Total Votes: 803000\n",
      "-----------------------------\n",
      "['Vestal', 'Torres', 'Seth', 'Cordin']: [48.0, 44.0, 5.0, 3.0]% ([385440, 353320, 40150, 24090]\n",
      "------------------------------\n",
      "Winner: Vestal\n",
      "------------------------------\n"
     ]
    }
   ],
   "source": [
    "# print to terminal\n",
    "with open(text_file, \"r\") as readfile:\n",
    "    print(readfile.read())"
   ]
  },
  {
   "cell_type": "code",
   "execution_count": null,
   "metadata": {},
   "outputs": [],
   "source": []
  },
  {
   "cell_type": "code",
   "execution_count": null,
   "metadata": {},
   "outputs": [],
   "source": []
  }
 ],
 "metadata": {
  "kernelspec": {
   "display_name": "Python 3",
   "language": "python",
   "name": "python3"
  },
  "language_info": {
   "codemirror_mode": {
    "name": "ipython",
    "version": 3
   },
   "file_extension": ".py",
   "mimetype": "text/x-python",
   "name": "python",
   "nbconvert_exporter": "python",
   "pygments_lexer": "ipython3",
   "version": "3.6.4"
  }
 },
 "nbformat": 4,
 "nbformat_minor": 2
}
